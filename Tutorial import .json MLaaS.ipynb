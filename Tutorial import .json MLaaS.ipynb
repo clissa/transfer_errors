{
 "cells": [
  {
   "cell_type": "markdown",
   "metadata": {},
   "source": [
    "# Introduction\n",
    "State notebook purpose here"
   ]
  },
  {
   "cell_type": "markdown",
   "metadata": {},
   "source": [
    "### Imports\n",
    "Import libraries and write settings here."
   ]
  },
  {
   "cell_type": "code",
   "execution_count": 1,
   "metadata": {
    "ExecuteTime": {
     "end_time": "2019-09-11T15:06:59.785507Z",
     "start_time": "2019-09-11T15:06:58.917636Z"
    }
   },
   "outputs": [
    {
     "name": "stderr",
     "output_type": "stream",
     "text": [
      "/home/luca/anaconda3/envs/tensorflow/lib/python3.6/site-packages/plotly/graph_objs/_deprecations.py:558: DeprecationWarning:\n",
      "\n",
      "plotly.graph_objs.YAxis is deprecated.\n",
      "Please replace it with one of the following more specific types\n",
      "  - plotly.graph_objs.layout.YAxis\n",
      "  - plotly.graph_objs.layout.scene.YAxis\n",
      "\n",
      "\n",
      "/home/luca/anaconda3/envs/tensorflow/lib/python3.6/site-packages/plotly/graph_objs/_deprecations.py:531: DeprecationWarning:\n",
      "\n",
      "plotly.graph_objs.XAxis is deprecated.\n",
      "Please replace it with one of the following more specific types\n",
      "  - plotly.graph_objs.layout.XAxis\n",
      "  - plotly.graph_objs.layout.scene.XAxis\n",
      "\n",
      "\n"
     ]
    },
    {
     "data": {
      "text/html": [
       "        <script type=\"text/javascript\">\n",
       "        window.PlotlyConfig = {MathJaxConfig: 'local'};\n",
       "        if (window.MathJax) {MathJax.Hub.Config({SVG: {font: \"STIX-Web\"}});}\n",
       "        if (typeof require !== 'undefined') {\n",
       "        require.undef(\"plotly\");\n",
       "        requirejs.config({\n",
       "            paths: {\n",
       "                'plotly': ['https://cdn.plot.ly/plotly-latest.min']\n",
       "            }\n",
       "        });\n",
       "        require(['plotly'], function(Plotly) {\n",
       "            window._Plotly = Plotly;\n",
       "        });\n",
       "        }\n",
       "        </script>\n",
       "        "
      ]
     },
     "metadata": {},
     "output_type": "display_data"
    }
   ],
   "source": [
    "# Data manipulation\n",
    "import pandas as pd\n",
    "import numpy as np\n",
    "\n",
    "# Options for pandas\n",
    "pd.options.display.max_columns = 50\n",
    "pd.options.display.max_rows = 30\n",
    "pd.options.display.float_format = '{:,.4f}'.format\n",
    "\n",
    "# Display all cell outputs\n",
    "from IPython.core.interactiveshell import InteractiveShell\n",
    "InteractiveShell.ast_node_interactivity = 'all'\n",
    "\n",
    "from IPython import get_ipython\n",
    "ipython = get_ipython()\n",
    "\n",
    "# autoreload extension\n",
    "if 'autoreload' not in ipython.extension_manager.loaded:\n",
    "    %load_ext autoreload\n",
    "\n",
    "%autoreload 2\n",
    "\n",
    "# Visualizations\n",
    "import seaborn as sns\n",
    "#import plotly.plotly as py\n",
    "#import plotly.graph_objs as go\n",
    "#from plotly.offline import iplot, init_notebook_mode\n",
    "#init_notebook_mode(connected=True)\n",
    "\n",
    "import cufflinks as cf\n",
    "cf.go_offline(connected=True)\n",
    "cf.set_config_file(theme='white')"
   ]
  },
  {
   "cell_type": "markdown",
   "metadata": {},
   "source": [
    "## Custom imports"
   ]
  },
  {
   "cell_type": "code",
   "execution_count": 1,
   "metadata": {
    "ExecuteTime": {
     "end_time": "2019-09-13T10:26:06.579219Z",
     "start_time": "2019-09-13T10:26:06.453897Z"
    }
   },
   "outputs": [],
   "source": [
    "import sys\n",
    "# code_path = \"/home/luca/Desktop/MLaaS4HEP/src/python/\"\n",
    "# sys.path.append(code_path)\n",
    "\n",
    "import json\n",
    "from MLaaS4HEP.reader import JSONReader"
   ]
  },
  {
   "cell_type": "markdown",
   "metadata": {},
   "source": [
    "# Analysis/Modeling\n",
    "Do work here"
   ]
  },
  {
   "cell_type": "markdown",
   "metadata": {},
   "source": [
    "## Try custom import"
   ]
  },
  {
   "cell_type": "code",
   "execution_count": 3,
   "metadata": {
    "ExecuteTime": {
     "end_time": "2019-09-11T15:07:07.724916Z",
     "start_time": "2019-09-11T15:07:07.706357Z"
    }
   },
   "outputs": [],
   "source": [
    "import json\n",
    "with open(\"rucio-opint.web.cern.ch.json\", 'r') as f:\n",
    "    raw_data = json.load(f)\n",
    "\n",
    "tot_errors = raw_data[\"count\"]"
   ]
  },
  {
   "cell_type": "code",
   "execution_count": 4,
   "metadata": {
    "ExecuteTime": {
     "end_time": "2019-09-11T15:07:09.167709Z",
     "start_time": "2019-09-11T15:07:09.150157Z"
    }
   },
   "outputs": [
    {
     "name": "stdout",
     "output_type": "stream",
     "text": [
      "Total number of errors: 1819\n"
     ]
    }
   ],
   "source": [
    "print(\"Total number of errors:\", tot_errors)"
   ]
  },
  {
   "cell_type": "code",
   "execution_count": 5,
   "metadata": {
    "ExecuteTime": {
     "end_time": "2019-09-11T15:07:10.782555Z",
     "start_time": "2019-09-11T15:07:10.751262Z"
    }
   },
   "outputs": [
    {
     "data": {
      "text/html": [
       "<div>\n",
       "<style scoped>\n",
       "    .dataframe tbody tr th:only-of-type {\n",
       "        vertical-align: middle;\n",
       "    }\n",
       "\n",
       "    .dataframe tbody tr th {\n",
       "        vertical-align: top;\n",
       "    }\n",
       "\n",
       "    .dataframe thead th {\n",
       "        text-align: right;\n",
       "    }\n",
       "</style>\n",
       "<table border=\"1\" class=\"dataframe\">\n",
       "  <thead>\n",
       "    <tr style=\"text-align: right;\">\n",
       "      <th></th>\n",
       "      <th>amount</th>\n",
       "      <th>category</th>\n",
       "      <th>dst_site</th>\n",
       "      <th>last_modified</th>\n",
       "      <th>message</th>\n",
       "      <th>src_site</th>\n",
       "      <th>status</th>\n",
       "      <th>type</th>\n",
       "    </tr>\n",
       "    <tr>\n",
       "      <th>id</th>\n",
       "      <th></th>\n",
       "      <th></th>\n",
       "      <th></th>\n",
       "      <th></th>\n",
       "      <th></th>\n",
       "      <th></th>\n",
       "      <th></th>\n",
       "      <th></th>\n",
       "    </tr>\n",
       "  </thead>\n",
       "  <tbody>\n",
       "    <tr>\n",
       "      <th>1</th>\n",
       "      <td>178</td>\n",
       "      <td>9</td>\n",
       "      <td>BNL-ATLAS</td>\n",
       "      <td>2019-08-06T14:07:04.412401+02:00</td>\n",
       "      <td>SOURCE [70] globus_xio: Unable to connect to a...</td>\n",
       "      <td>BU_ATLAS_Tier2</td>\n",
       "      <td>New</td>\n",
       "      <td>transfer-failure</td>\n",
       "    </tr>\n",
       "    <tr>\n",
       "      <th>2</th>\n",
       "      <td>3288</td>\n",
       "      <td>10</td>\n",
       "      <td>BU_ATLAS_Tier2</td>\n",
       "      <td>2019-08-06T14:07:04.595574+02:00</td>\n",
       "      <td>TRANSFER [70] TRANSFER  globus_xio: Unable to ...</td>\n",
       "      <td>BNL-ATLAS</td>\n",
       "      <td>New</td>\n",
       "      <td>transfer-failure</td>\n",
       "    </tr>\n",
       "    <tr>\n",
       "      <th>3</th>\n",
       "      <td>3288</td>\n",
       "      <td>10</td>\n",
       "      <td>BU_ATLAS_Tier2</td>\n",
       "      <td>2019-08-06T14:07:04.692554+02:00</td>\n",
       "      <td>TRANSFER [70] TRANSFER  globus_xio: Unable to ...</td>\n",
       "      <td>INFN-NAPOLI-ATLAS</td>\n",
       "      <td>New</td>\n",
       "      <td>transfer-failure</td>\n",
       "    </tr>\n",
       "    <tr>\n",
       "      <th>4</th>\n",
       "      <td>227</td>\n",
       "      <td>11</td>\n",
       "      <td>CERN-PROD</td>\n",
       "      <td>2019-08-06T14:07:04.803866+02:00</td>\n",
       "      <td>SOURCE [70] globus_xio: Unable to connect to a...</td>\n",
       "      <td>BU_ATLAS_Tier2</td>\n",
       "      <td>New</td>\n",
       "      <td>transfer-failure</td>\n",
       "    </tr>\n",
       "    <tr>\n",
       "      <th>5</th>\n",
       "      <td>130</td>\n",
       "      <td>11</td>\n",
       "      <td>TOKYO-LCG2</td>\n",
       "      <td>2019-08-06T14:07:04.891438+02:00</td>\n",
       "      <td>SOURCE [70] globus_xio: Unable to connect to a...</td>\n",
       "      <td>BU_ATLAS_Tier2</td>\n",
       "      <td>New</td>\n",
       "      <td>transfer-failure</td>\n",
       "    </tr>\n",
       "  </tbody>\n",
       "</table>\n",
       "</div>"
      ],
      "text/plain": [
       "    amount  category        dst_site                     last_modified  \\\n",
       "id                                                                       \n",
       "1      178         9       BNL-ATLAS  2019-08-06T14:07:04.412401+02:00   \n",
       "2     3288        10  BU_ATLAS_Tier2  2019-08-06T14:07:04.595574+02:00   \n",
       "3     3288        10  BU_ATLAS_Tier2  2019-08-06T14:07:04.692554+02:00   \n",
       "4      227        11       CERN-PROD  2019-08-06T14:07:04.803866+02:00   \n",
       "5      130        11      TOKYO-LCG2  2019-08-06T14:07:04.891438+02:00   \n",
       "\n",
       "                                              message           src_site  \\\n",
       "id                                                                         \n",
       "1   SOURCE [70] globus_xio: Unable to connect to a...     BU_ATLAS_Tier2   \n",
       "2   TRANSFER [70] TRANSFER  globus_xio: Unable to ...          BNL-ATLAS   \n",
       "3   TRANSFER [70] TRANSFER  globus_xio: Unable to ...  INFN-NAPOLI-ATLAS   \n",
       "4   SOURCE [70] globus_xio: Unable to connect to a...     BU_ATLAS_Tier2   \n",
       "5   SOURCE [70] globus_xio: Unable to connect to a...     BU_ATLAS_Tier2   \n",
       "\n",
       "   status              type  \n",
       "id                           \n",
       "1     New  transfer-failure  \n",
       "2     New  transfer-failure  \n",
       "3     New  transfer-failure  \n",
       "4     New  transfer-failure  \n",
       "5     New  transfer-failure  "
      ]
     },
     "execution_count": 5,
     "metadata": {},
     "output_type": "execute_result"
    }
   ],
   "source": [
    "errors = pd.DataFrame(raw_data[\"results\"]).set_index(\"id\")\n",
    "\n",
    "errors.head()"
   ]
  },
  {
   "cell_type": "markdown",
   "metadata": {},
   "source": [
    "## Try simple clustering approach"
   ]
  },
  {
   "cell_type": "code",
   "execution_count": 6,
   "metadata": {
    "ExecuteTime": {
     "end_time": "2019-09-11T15:10:16.337563Z",
     "start_time": "2019-09-11T15:10:16.225243Z"
    }
   },
   "outputs": [],
   "source": [
    "from sklearn.feature_extraction.text import TfidfVectorizer\n",
    "from sklearn.cluster import KMeans\n",
    "import numpy as np\n",
    "import pandas as pd\n",
    "\n",
    "vectorizer = TfidfVectorizer(stop_words='english')\n",
    "X = vectorizer.fit_transform(errors.message)"
   ]
  },
  {
   "cell_type": "code",
   "execution_count": 7,
   "metadata": {
    "ExecuteTime": {
     "end_time": "2019-09-11T15:10:55.774692Z",
     "start_time": "2019-09-11T15:10:55.736665Z"
    },
    "scrolled": true
   },
   "outputs": [
    {
     "data": {
      "text/plain": [
       "KMeans(algorithm='auto', copy_x=True, init='k-means++', max_iter=100,\n",
       "       n_clusters=5, n_init=1, n_jobs=None, precompute_distances='auto',\n",
       "       random_state=None, tol=0.0001, verbose=0)"
      ]
     },
     "execution_count": 7,
     "metadata": {},
     "output_type": "execute_result"
    }
   ],
   "source": [
    "true_k = 5\n",
    "\n",
    "# Define the model with initialization\n",
    "model = KMeans(n_clusters=true_k, init='k-means++', max_iter=100, n_init=1)\n",
    "\n",
    "# Fit the model\n",
    "model.fit(X)\n",
    "\n",
    "# Get the resulting centroids\n",
    "order_centroids = model.cluster_centers_.argsort()[:, ::-1]\n",
    "\n",
    "# Get features\n",
    "terms = vectorizer.get_feature_names()"
   ]
  },
  {
   "cell_type": "code",
   "execution_count": 11,
   "metadata": {
    "ExecuteTime": {
     "end_time": "2019-09-11T15:12:58.035586Z",
     "start_time": "2019-09-11T15:12:57.993664Z"
    }
   },
   "outputs": [
    {
     "data": {
      "text/html": [
       "<div>\n",
       "<style scoped>\n",
       "    .dataframe tbody tr th:only-of-type {\n",
       "        vertical-align: middle;\n",
       "    }\n",
       "\n",
       "    .dataframe tbody tr th {\n",
       "        vertical-align: top;\n",
       "    }\n",
       "\n",
       "    .dataframe thead th {\n",
       "        text-align: right;\n",
       "    }\n",
       "</style>\n",
       "<table border=\"1\" class=\"dataframe\">\n",
       "  <thead>\n",
       "    <tr style=\"text-align: right;\">\n",
       "      <th></th>\n",
       "      <th>Group_0</th>\n",
       "      <th>Group_1</th>\n",
       "      <th>Group_2</th>\n",
       "      <th>Group_3</th>\n",
       "      <th>Group_4</th>\n",
       "    </tr>\n",
       "  </thead>\n",
       "  <tbody>\n",
       "    <tr>\n",
       "      <th>05</th>\n",
       "      <td>46</td>\n",
       "      <td>199</td>\n",
       "      <td>69</td>\n",
       "      <td>60</td>\n",
       "      <td>106</td>\n",
       "    </tr>\n",
       "    <tr>\n",
       "      <th>100</th>\n",
       "      <td>193</td>\n",
       "      <td>172</td>\n",
       "      <td>89</td>\n",
       "      <td>154</td>\n",
       "      <td>155</td>\n",
       "    </tr>\n",
       "    <tr>\n",
       "      <th>10025</th>\n",
       "      <td>72</td>\n",
       "      <td>27</td>\n",
       "      <td>71</td>\n",
       "      <td>67</td>\n",
       "      <td>73</td>\n",
       "    </tr>\n",
       "    <tr>\n",
       "      <th>110</th>\n",
       "      <td>51</td>\n",
       "      <td>18</td>\n",
       "      <td>75</td>\n",
       "      <td>133</td>\n",
       "      <td>62</td>\n",
       "    </tr>\n",
       "    <tr>\n",
       "      <th>1264</th>\n",
       "      <td>19</td>\n",
       "      <td>65</td>\n",
       "      <td>50</td>\n",
       "      <td>205</td>\n",
       "      <td>123</td>\n",
       "    </tr>\n",
       "    <tr>\n",
       "      <th>1458</th>\n",
       "      <td>107</td>\n",
       "      <td>179</td>\n",
       "      <td>208</td>\n",
       "      <td>40</td>\n",
       "      <td>145</td>\n",
       "    </tr>\n",
       "    <tr>\n",
       "      <th>19</th>\n",
       "      <td>65</td>\n",
       "      <td>59</td>\n",
       "      <td>109</td>\n",
       "      <td>111</td>\n",
       "      <td>58</td>\n",
       "    </tr>\n",
       "    <tr>\n",
       "      <th>2001</th>\n",
       "      <td>179</td>\n",
       "      <td>55</td>\n",
       "      <td>95</td>\n",
       "      <td>162</td>\n",
       "      <td>68</td>\n",
       "    </tr>\n",
       "    <tr>\n",
       "      <th>201</th>\n",
       "      <td>114</td>\n",
       "      <td>194</td>\n",
       "      <td>137</td>\n",
       "      <td>33</td>\n",
       "      <td>76</td>\n",
       "    </tr>\n",
       "    <tr>\n",
       "      <th>21</th>\n",
       "      <td>20</td>\n",
       "      <td>153</td>\n",
       "      <td>90</td>\n",
       "      <td>129</td>\n",
       "      <td>75</td>\n",
       "    </tr>\n",
       "    <tr>\n",
       "      <th>2811</th>\n",
       "      <td>76</td>\n",
       "      <td>134</td>\n",
       "      <td>97</td>\n",
       "      <td>176</td>\n",
       "      <td>74</td>\n",
       "    </tr>\n",
       "    <tr>\n",
       "      <th>301</th>\n",
       "      <td>177</td>\n",
       "      <td>39</td>\n",
       "      <td>94</td>\n",
       "      <td>210</td>\n",
       "      <td>72</td>\n",
       "    </tr>\n",
       "    <tr>\n",
       "      <th>403</th>\n",
       "      <td>61</td>\n",
       "      <td>1</td>\n",
       "      <td>202</td>\n",
       "      <td>54</td>\n",
       "      <td>71</td>\n",
       "    </tr>\n",
       "    <tr>\n",
       "      <th>451</th>\n",
       "      <td>204</td>\n",
       "      <td>192</td>\n",
       "      <td>10</td>\n",
       "      <td>206</td>\n",
       "      <td>70</td>\n",
       "    </tr>\n",
       "    <tr>\n",
       "      <th>500</th>\n",
       "      <td>126</td>\n",
       "      <td>122</td>\n",
       "      <td>38</td>\n",
       "      <td>57</td>\n",
       "      <td>69</td>\n",
       "    </tr>\n",
       "    <tr>\n",
       "      <th>...</th>\n",
       "      <td>...</td>\n",
       "      <td>...</td>\n",
       "      <td>...</td>\n",
       "      <td>...</td>\n",
       "      <td>...</td>\n",
       "    </tr>\n",
       "    <tr>\n",
       "      <th>fts812</th>\n",
       "      <td>21</td>\n",
       "      <td>69</td>\n",
       "      <td>1</td>\n",
       "      <td>91</td>\n",
       "      <td>51</td>\n",
       "    </tr>\n",
       "    <tr>\n",
       "      <th>fts813</th>\n",
       "      <td>18</td>\n",
       "      <td>8</td>\n",
       "      <td>24</td>\n",
       "      <td>164</td>\n",
       "      <td>50</td>\n",
       "    </tr>\n",
       "    <tr>\n",
       "      <th>function</th>\n",
       "      <td>16</td>\n",
       "      <td>63</td>\n",
       "      <td>26</td>\n",
       "      <td>100</td>\n",
       "      <td>49</td>\n",
       "    </tr>\n",
       "    <tr>\n",
       "      <th>gftp</th>\n",
       "      <td>15</td>\n",
       "      <td>9</td>\n",
       "      <td>52</td>\n",
       "      <td>170</td>\n",
       "      <td>48</td>\n",
       "    </tr>\n",
       "    <tr>\n",
       "      <th>given</th>\n",
       "      <td>14</td>\n",
       "      <td>115</td>\n",
       "      <td>28</td>\n",
       "      <td>43</td>\n",
       "      <td>47</td>\n",
       "    </tr>\n",
       "    <tr>\n",
       "      <th>globus_common</th>\n",
       "      <td>13</td>\n",
       "      <td>166</td>\n",
       "      <td>51</td>\n",
       "      <td>174</td>\n",
       "      <td>46</td>\n",
       "    </tr>\n",
       "    <tr>\n",
       "      <th>globus_ftp_client</th>\n",
       "      <td>12</td>\n",
       "      <td>98</td>\n",
       "      <td>49</td>\n",
       "      <td>47</td>\n",
       "      <td>45</td>\n",
       "    </tr>\n",
       "    <tr>\n",
       "      <th>globus_ftp_control</th>\n",
       "      <td>11</td>\n",
       "      <td>201</td>\n",
       "      <td>101</td>\n",
       "      <td>104</td>\n",
       "      <td>44</td>\n",
       "    </tr>\n",
       "    <tr>\n",
       "      <th>globus_gsi_callback_module</th>\n",
       "      <td>10</td>\n",
       "      <td>64</td>\n",
       "      <td>47</td>\n",
       "      <td>105</td>\n",
       "      <td>43</td>\n",
       "    </tr>\n",
       "    <tr>\n",
       "      <th>globus_libc_getaddrinfo</th>\n",
       "      <td>9</td>\n",
       "      <td>76</td>\n",
       "      <td>46</td>\n",
       "      <td>127</td>\n",
       "      <td>42</td>\n",
       "    </tr>\n",
       "    <tr>\n",
       "      <th>globus_xio</th>\n",
       "      <td>8</td>\n",
       "      <td>72</td>\n",
       "      <td>45</td>\n",
       "      <td>183</td>\n",
       "      <td>41</td>\n",
       "    </tr>\n",
       "    <tr>\n",
       "      <th>gov</th>\n",
       "      <td>7</td>\n",
       "      <td>75</td>\n",
       "      <td>44</td>\n",
       "      <td>55</td>\n",
       "      <td>40</td>\n",
       "    </tr>\n",
       "    <tr>\n",
       "      <th>gridftp</th>\n",
       "      <td>6</td>\n",
       "      <td>60</td>\n",
       "      <td>43</td>\n",
       "      <td>3</td>\n",
       "      <td>39</td>\n",
       "    </tr>\n",
       "    <tr>\n",
       "      <th>gridpp</th>\n",
       "      <td>29</td>\n",
       "      <td>71</td>\n",
       "      <td>42</td>\n",
       "      <td>193</td>\n",
       "      <td>38</td>\n",
       "    </tr>\n",
       "    <tr>\n",
       "      <th>gsiftp</th>\n",
       "      <td>31</td>\n",
       "      <td>62</td>\n",
       "      <td>41</td>\n",
       "      <td>63</td>\n",
       "      <td>37</td>\n",
       "    </tr>\n",
       "  </tbody>\n",
       "</table>\n",
       "<p>100 rows × 5 columns</p>\n",
       "</div>"
      ],
      "text/plain": [
       "                            Group_0  Group_1  Group_2  Group_3  Group_4\n",
       "05                               46      199       69       60      106\n",
       "100                             193      172       89      154      155\n",
       "10025                            72       27       71       67       73\n",
       "110                              51       18       75      133       62\n",
       "1264                             19       65       50      205      123\n",
       "1458                            107      179      208       40      145\n",
       "19                               65       59      109      111       58\n",
       "2001                            179       55       95      162       68\n",
       "201                             114      194      137       33       76\n",
       "21                               20      153       90      129       75\n",
       "2811                             76      134       97      176       74\n",
       "301                             177       39       94      210       72\n",
       "403                              61        1      202       54       71\n",
       "451                             204      192       10      206       70\n",
       "500                             126      122       38       57       69\n",
       "...                             ...      ...      ...      ...      ...\n",
       "fts812                           21       69        1       91       51\n",
       "fts813                           18        8       24      164       50\n",
       "function                         16       63       26      100       49\n",
       "gftp                             15        9       52      170       48\n",
       "given                            14      115       28       43       47\n",
       "globus_common                    13      166       51      174       46\n",
       "globus_ftp_client                12       98       49       47       45\n",
       "globus_ftp_control               11      201      101      104       44\n",
       "globus_gsi_callback_module       10       64       47      105       43\n",
       "globus_libc_getaddrinfo           9       76       46      127       42\n",
       "globus_xio                        8       72       45      183       41\n",
       "gov                               7       75       44       55       40\n",
       "gridftp                           6       60       43        3       39\n",
       "gridpp                           29       71       42      193       38\n",
       "gsiftp                           31       62       41       63       37\n",
       "\n",
       "[100 rows x 5 columns]"
      ]
     },
     "execution_count": 11,
     "metadata": {},
     "output_type": "execute_result"
    }
   ],
   "source": [
    "df = pd.DataFrame(order_centroids, columns=terms , index=['Group_0', 'Group_1', 'Group_2', 'Group_3', 'Group_4']) \n",
    "df.T.head(100)"
   ]
  },
  {
   "cell_type": "code",
   "execution_count": 10,
   "metadata": {
    "ExecuteTime": {
     "end_time": "2019-09-11T15:12:38.904665Z",
     "start_time": "2019-09-11T15:12:38.880353Z"
    }
   },
   "outputs": [
    {
     "data": {
      "text/plain": [
       "3"
      ]
     },
     "execution_count": 10,
     "metadata": {},
     "output_type": "execute_result"
    }
   ],
   "source": [
    "model.n_iter_"
   ]
  },
  {
   "cell_type": "markdown",
   "metadata": {},
   "source": [
    "## Try MLaaS4HEP"
   ]
  },
  {
   "cell_type": "code",
   "execution_count": 59,
   "metadata": {
    "ExecuteTime": {
     "end_time": "2019-09-13T10:38:08.862993Z",
     "start_time": "2019-09-13T10:38:08.848366Z"
    }
   },
   "outputs": [],
   "source": [
    "read = JSONReader(\"rucio-opint.web.cern.ch.json\", label=\"first100\", verbose=0)\n",
    "\n",
    "for data in read.next():\n",
    "    errors = data"
   ]
  },
  {
   "cell_type": "code",
   "execution_count": 49,
   "metadata": {
    "ExecuteTime": {
     "end_time": "2019-09-13T10:32:22.894069Z",
     "start_time": "2019-09-13T10:32:22.867489Z"
    }
   },
   "outputs": [
    {
     "name": "stdout",
     "output_type": "stream",
     "text": [
      "{'id': 1, 'message': 'SOURCE [70] globus_xio: Unable to connect to atlas-gridftp.bu.edu:2811 globus_xio: globus_libc_getaddrinfo failed. globus_common: Temporary failure in name resolution ', 'src_site': 'BU_ATLAS_Tier2', 'dst_site': 'BNL-ATLAS', 'category': 9, 'amount': 178, 'type': 'transfer-failure', 'status': 'New', 'last_modified': '2019-08-06T14:07:04.412401+02:00'}\n"
     ]
    }
   ],
   "source": [
    "for data in read.next():\n",
    "    print((data[0][3][102]))"
   ]
  },
  {
   "cell_type": "code",
   "execution_count": 66,
   "metadata": {
    "ExecuteTime": {
     "end_time": "2019-09-13T10:39:31.931792Z",
     "start_time": "2019-09-13T10:39:31.920764Z"
    }
   },
   "outputs": [
    {
     "data": {
      "text/plain": [
       "'r'"
      ]
     },
     "execution_count": 66,
     "metadata": {},
     "output_type": "execute_result"
    }
   ],
   "source": [
    "errors[0][2]"
   ]
  },
  {
   "cell_type": "code",
   "execution_count": 14,
   "metadata": {
    "ExecuteTime": {
     "end_time": "2019-09-13T10:29:02.100664Z",
     "start_time": "2019-09-13T10:29:02.080380Z"
    }
   },
   "outputs": [
    {
     "ename": "TypeError",
     "evalue": "'generator' object is not subscriptable",
     "output_type": "error",
     "traceback": [
      "\u001b[0;31m---------------------------------------------------------------------------\u001b[0m",
      "\u001b[0;31mTypeError\u001b[0m                                 Traceback (most recent call last)",
      "\u001b[0;32m<ipython-input-14-3034b2ff0aef>\u001b[0m in \u001b[0;36m<module>\u001b[0;34m\u001b[0m\n\u001b[0;32m----> 1\u001b[0;31m \u001b[0mdata\u001b[0m \u001b[0;34m=\u001b[0m \u001b[0mread\u001b[0m\u001b[0;34m.\u001b[0m\u001b[0mnext\u001b[0m\u001b[0;34m(\u001b[0m\u001b[0;34m)\u001b[0m\u001b[0;34m[\u001b[0m\u001b[0;34m\"results\"\u001b[0m\u001b[0;34m]\u001b[0m\u001b[0;34m\u001b[0m\u001b[0m\n\u001b[0m",
      "\u001b[0;31mTypeError\u001b[0m: 'generator' object is not subscriptable"
     ]
    }
   ],
   "source": [
    "data = read.next()[\"results\"]"
   ]
  },
  {
   "cell_type": "markdown",
   "metadata": {},
   "source": [
    "# Results\n",
    "Show graphs and stats here"
   ]
  },
  {
   "cell_type": "markdown",
   "metadata": {},
   "source": [
    "# Conclusions and Next Steps\n",
    "Summarize findings here"
   ]
  },
  {
   "cell_type": "code",
   "execution_count": null,
   "metadata": {},
   "outputs": [],
   "source": []
  }
 ],
 "metadata": {
  "kernelspec": {
   "display_name": "Python 3",
   "language": "python",
   "name": "python3"
  },
  "language_info": {
   "codemirror_mode": {
    "name": "ipython",
    "version": 3
   },
   "file_extension": ".py",
   "mimetype": "text/x-python",
   "name": "python",
   "nbconvert_exporter": "python",
   "pygments_lexer": "ipython3",
   "version": "3.6.5"
  },
  "toc": {
   "base_numbering": 1,
   "nav_menu": {},
   "number_sections": true,
   "sideBar": true,
   "skip_h1_title": false,
   "title_cell": "Table of Contents",
   "title_sidebar": "Contents",
   "toc_cell": false,
   "toc_position": {},
   "toc_section_display": true,
   "toc_window_display": false
  }
 },
 "nbformat": 4,
 "nbformat_minor": 2
}
